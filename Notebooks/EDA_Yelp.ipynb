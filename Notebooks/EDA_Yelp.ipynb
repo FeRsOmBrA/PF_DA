{
 "cells": [
  {
   "cell_type": "code",
   "execution_count": null,
   "metadata": {},
   "outputs": [],
   "source": [
    "import pandas as pd\n",
    "import pyarrow as pa\n",
    "import pyarrow.parquet as pq\n",
    "import os"
   ]
  },
  {
   "cell_type": "markdown",
   "metadata": {},
   "source": [
    "# EDA \"business.snappy.parquet\""
   ]
  },
  {
   "cell_type": "code",
   "execution_count": null,
   "metadata": {},
   "outputs": [],
   "source": [
    "#Obtener la ruta del archivo\n",
    "file_path = '../data/Yelp/business.snappy.parquet'\n"
   ]
  },
  {
   "cell_type": "code",
   "execution_count": null,
   "metadata": {},
   "outputs": [],
   "source": [
    "# Lee el archivo Parquet en un DataFrame\n",
    "df = pd.read_parquet(file_path, engine='pyarrow')\n",
    "df.head(5)"
   ]
  },
  {
   "cell_type": "code",
   "execution_count": null,
   "metadata": {},
   "outputs": [],
   "source": [
    "\n",
    "# Importa las bibliotecas necesarias\n",
    "import seaborn as sns\n",
    "import matplotlib.pyplot as plt"
   ]
  },
  {
   "cell_type": "code",
   "execution_count": null,
   "metadata": {},
   "outputs": [],
   "source": [
    "# #10 usuarios con más reseñas\n",
    "# Calcula la cantidad de reseñas por usuario y obtén los 10 usuarios con más reseñas\n",
    "name_counts = df['name'].value_counts()\n",
    "top_users = name_counts.head(10)\n",
    "\n",
    "# Muestra los 10 usuarios con más reseñas\n",
    "print(\"Top 10 Usuarios que Más se Repiten:\")\n",
    "print(top_users)\n",
    "\n",
    "# Crea un gráfico de barras para visualizar los 10 usuarios con más reseñas\n",
    "plt.figure(figsize=(10, 6))\n",
    "top_users.plot(kind='bar', color='green')\n",
    "plt.xlabel('Usuario')\n",
    "plt.ylabel('Frecuencia')\n",
    "plt.title('Top 10 Usuarios con Mas Reseñas')\n",
    "plt.xticks(rotation=90)\n",
    "plt.tight_layout()\n",
    "plt.show()"
   ]
  },
  {
   "cell_type": "code",
   "execution_count": null,
   "metadata": {},
   "outputs": [],
   "source": [
    "#Contar la cantidad de bancos por ciudad\n",
    "city_counts = df['city'].value_counts()\n",
    "\n",
    "# Selecciona las 10 ciudades principales\n",
    "top_cities = city_counts.head(10)\n",
    "\n",
    "# Define una paleta de colores verde utilizando Seaborn\n",
    "green_palette = sns.color_palette(\"viridis\", len(top_cities))\n",
    "\n",
    "# Crea el gráfico de barras utilizando la paleta de colores verde\n",
    "plt.figure(figsize=(10, 6))\n",
    "top_cities.plot(kind='bar', color=green_palette)\n",
    "plt.xlabel('Ciudades')\n",
    "plt.ylabel('Cantidad Bancos')\n",
    "plt.show()"
   ]
  },
  {
   "cell_type": "markdown",
   "metadata": {},
   "source": [
    "# EDA \"tip.snappy.parquet\"\n"
   ]
  },
  {
   "cell_type": "code",
   "execution_count": null,
   "metadata": {},
   "outputs": [],
   "source": [
    "#Obtener la ruta del archivo\n",
    "file_path = '../data/Yelp/tip.snappy.parquet'\n",
    "\n",
    "# Lee el archivo Parquet en un DataFrame\n",
    "df_tips = pd.read_parquet(file_path, engine='pyarrow')\n",
    "df_tips.head(3)"
   ]
  },
  {
   "cell_type": "code",
   "execution_count": null,
   "metadata": {},
   "outputs": [],
   "source": [
    "#Rango temporal de los datos\n",
    "min_date = df_tips['date'].min()\n",
    "max_date = df_tips['date'].max()\n",
    "\n",
    "print(\"Fecha mínima:\", min_date)\n",
    "print(\"Fecha máxima:\", max_date)"
   ]
  },
  {
   "cell_type": "code",
   "execution_count": null,
   "metadata": {},
   "outputs": [],
   "source": [
    "\n",
    "# Importa las bibliotecas necesarias\n",
    "from wordcloud import WordCloud\n",
    "\n",
    "# Concatena todos los textos de la columna 'text' en una sola cadena\n",
    "all_text = ' '.join(df_tips['text'])\n",
    "\n",
    "# Crea un objeto WordCloud con las configuraciones deseadas\n",
    "wordcloud = WordCloud(width=800, height=400, background_color='white', max_words=100).generate(all_text)\n",
    "\n",
    "# Configura la figura para mostrar la nube de palabras\n",
    "plt.figure(figsize=(10, 6))\n",
    "plt.imshow(wordcloud, interpolation='bilinear')\n",
    "plt.axis('off')\n",
    "plt.title('Nube de Palabras de la Columna \"text\"')\n",
    "plt.show()"
   ]
  },
  {
   "cell_type": "markdown",
   "metadata": {},
   "source": [
    "# EDA \"user.snappy.parquet\""
   ]
  },
  {
   "cell_type": "code",
   "execution_count": null,
   "metadata": {},
   "outputs": [],
   "source": [
    "#Obtener la ruta del archivo\n",
    "file_path = '../data/Yelp/user.snappy.parquet'\n",
    "\n",
    "# Lee el archivo Parquet en un DataFrame\n",
    "df_user = pd.read_parquet(file_path, engine='pyarrow')\n",
    "df_user.head(3)"
   ]
  },
  {
   "cell_type": "markdown",
   "metadata": {},
   "source": [
    "## Exploración de la Distribución de Review Count y Average Stars:\n",
    "\n",
    "Visualiza la distribución de review_count y average_stars para entender la cantidad de reseñas y la calificación promedio de los usuarios."
   ]
  },
  {
   "cell_type": "code",
   "execution_count": null,
   "metadata": {},
   "outputs": [],
   "source": [
    "# Exploración de la Distribución de Review Count y Average Stars\n",
    "plt.figure(figsize=(12, 6))\n",
    "plt.subplot(1, 2, 1)\n",
    "sns.histplot(df_user['review_count'], bins=30, kde=True, color='blue')\n",
    "plt.title('Distribución de Review Count')\n",
    "\n",
    "plt.subplot(1, 2, 2)\n",
    "sns.histplot(df_user['average_stars'], bins=30, kde=True, color='green')\n",
    "plt.title('Distribución de Average Stars')\n",
    "\n",
    "plt.tight_layout()\n",
    "plt.show()"
   ]
  },
  {
   "cell_type": "markdown",
   "metadata": {},
   "source": [
    "## Análisis Temporal:\n",
    "\n",
    "Analiza la distribución temporal de la variable yelping_since. Agrupar por año cómo ha evolucionado la incorporación de nuevos usuarios a lo largo del tiempo."
   ]
  },
  {
   "cell_type": "code",
   "execution_count": null,
   "metadata": {},
   "outputs": [],
   "source": [
    "# Análisis Temporal\n",
    "df_user['yelping_since'] = pd.to_datetime(df_user['yelping_since'])\n",
    "df_user['yelping_year'] = df_user['yelping_since'].dt.year\n",
    "\n",
    "plt.figure(figsize=(10, 6))\n",
    "sns.countplot(x='yelping_year', data=df_user, palette='viridis')\n",
    "plt.title('Distribución de Usuarios Yelping por Año')\n",
    "plt.xlabel('Año de Yelping')\n",
    "plt.ylabel('Número de Usuarios')\n",
    "plt.show()"
   ]
  },
  {
   "cell_type": "markdown",
   "metadata": {},
   "source": [
    "## Análisis de Relaciones Sociales:\n",
    "\n",
    "Investiga las relaciones sociales de los usuarios utilizando la información en la columna friends. Analizar la cantidad de amigos y cómo se distribuyen."
   ]
  },
  {
   "cell_type": "code",
   "execution_count": null,
   "metadata": {},
   "outputs": [],
   "source": [
    "#Análisis de Relaciones Sociales\n",
    "df_user['friends_count'] = df_user['friends'].apply(lambda x: len(x.split(',')))\n",
    "\n",
    "plt.figure(figsize=(12, 6))\n",
    "sns.histplot(df_user['friends_count'], bins=30, kde=True, color='orange')\n",
    "plt.title('Distribución de la Cantidad de Amigos')\n",
    "plt.xlabel('Cantidad de Amigos')\n",
    "plt.ylabel('Número de Usuarios')\n",
    "plt.show()\n"
   ]
  }
 ],
 "metadata": {
  "kernelspec": {
   "display_name": "Python 3",
   "language": "python",
   "name": "python3"
  },
  "language_info": {
   "codemirror_mode": {
    "name": "ipython",
    "version": 3
   },
   "file_extension": ".py",
   "mimetype": "text/x-python",
   "name": "python",
   "nbconvert_exporter": "python",
   "pygments_lexer": "ipython3",
   "version": "3.11.3"
  }
 },
 "nbformat": 4,
 "nbformat_minor": 2
}
