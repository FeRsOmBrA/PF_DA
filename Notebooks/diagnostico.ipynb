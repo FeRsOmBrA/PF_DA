{
 "cells": [
  {
   "cell_type": "code",
   "execution_count": 1,
   "metadata": {},
   "outputs": [],
   "source": [
    "import pandas as pd\n",
    "import os\n",
    "import utils\n",
    "import warnings\n",
    "warnings.filterwarnings(\"ignore\")"
   ]
  },
  {
   "cell_type": "markdown",
   "metadata": {},
   "source": [
    "Todos los archivos de la carpeta metadata-sitios tienen la misma estructura de columnas."
   ]
  },
  {
   "cell_type": "code",
   "execution_count": 2,
   "metadata": {},
   "outputs": [
    {
     "data": {
      "text/plain": [
       "['name',\n",
       " 'address',\n",
       " 'gmap_id',\n",
       " 'description',\n",
       " 'latitude',\n",
       " 'longitude',\n",
       " 'category',\n",
       " 'avg_rating',\n",
       " 'num_of_reviews',\n",
       " 'price',\n",
       " 'hours',\n",
       " 'MISC',\n",
       " 'state',\n",
       " 'relative_results',\n",
       " 'url']"
      ]
     },
     "execution_count": 2,
     "metadata": {},
     "output_type": "execute_result"
    }
   ],
   "source": [
    "utils.dataStructure('../data/Google_Maps/metadata-sitios')"
   ]
  },
  {
   "cell_type": "markdown",
   "metadata": {},
   "source": [
    "Todos los archivos de la carpeta reviews-estados tienen la misma estructura de columnas."
   ]
  },
  {
   "cell_type": "code",
   "execution_count": 4,
   "metadata": {},
   "outputs": [
    {
     "data": {
      "text/plain": [
       "['user_id', 'name', 'time', 'rating', 'text', 'pics', 'resp', 'gmap_id']"
      ]
     },
     "execution_count": 4,
     "metadata": {},
     "output_type": "execute_result"
    }
   ],
   "source": [
    "utils.dataStructure('../data/Google_Maps/reviews-estados')"
   ]
  },
  {
   "cell_type": "markdown",
   "metadata": {},
   "source": [
    "Los archivos business.pkl, tip.json y user.parquet de Yelp requiere transformación de datos."
   ]
  },
  {
   "cell_type": "code",
   "execution_count": 2,
   "metadata": {},
   "outputs": [
    {
     "name": "stdout",
     "output_type": "stream",
     "text": [
      "Se encontraron columnas duplicadas con datos en data/Yelp\\business.pkl.\n",
      "data/Yelp\\business.pkl contiene múltiples tipos de dato.\n",
      "data/Yelp\\business.pkl contiene datos nulos.\n",
      "data/Yelp\\checkin.json está OK.\n",
      "data/Yelp\\review.json está OK.\n",
      "Se encontraron filas duplicadas data/Yelp\\tip.json\n",
      "Se encontraron filas duplicadas data/Yelp\\user.parquet\n"
     ]
    }
   ],
   "source": [
    "utils.processFiles('../data/Yelp')"
   ]
  },
  {
   "cell_type": "markdown",
   "metadata": {},
   "source": [
    "Todos los datasets de la carpeta Google_Maps (approx. 600 archivos json) requieren transformación de datos."
   ]
  },
  {
   "cell_type": "code",
   "execution_count": null,
   "metadata": {},
   "outputs": [],
   "source": [
    "utils.processFiles('../data/Google_Maps')"
   ]
  }
 ],
 "metadata": {
  "kernelspec": {
   "display_name": "Python 3",
   "language": "python",
   "name": "python3"
  },
  "language_info": {
   "codemirror_mode": {
    "name": "ipython",
    "version": 3
   },
   "file_extension": ".py",
   "mimetype": "text/x-python",
   "name": "python",
   "nbconvert_exporter": "python",
   "pygments_lexer": "ipython3",
   "version": "3.11.7"
  }
 },
 "nbformat": 4,
 "nbformat_minor": 2
}
